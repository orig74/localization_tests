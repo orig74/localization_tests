{
 "cells": [
  {
   "cell_type": "code",
   "execution_count": null,
   "metadata": {
    "collapsed": false
   },
   "outputs": [],
   "source": [
    "%pylab notebook\n",
    "import numpy as np"
   ]
  },
  {
   "cell_type": "code",
   "execution_count": null,
   "metadata": {
    "collapsed": true
   },
   "outputs": [],
   "source": [
    "import matplotlib.pyplot as plt"
   ]
  },
  {
   "cell_type": "code",
   "execution_count": null,
   "metadata": {
    "collapsed": false
   },
   "outputs": [],
   "source": [
    "!ls data/manuvers_raw/"
   ]
  },
  {
   "cell_type": "code",
   "execution_count": null,
   "metadata": {
    "collapsed": false
   },
   "outputs": [],
   "source": [
    "import pickle\n",
    "data=[]\n",
    "fd=open('data/manuvers_raw/mov4.pkl','rb')\n",
    "while 1:\n",
    "    try:\n",
    "        data.append(pickle.load(fd))\n",
    "    except EOFError:\n",
    "        break"
   ]
  },
  {
   "cell_type": "code",
   "execution_count": null,
   "metadata": {
    "collapsed": false
   },
   "outputs": [],
   "source": [
    "data[600]"
   ]
  },
  {
   "cell_type": "code",
   "execution_count": null,
   "metadata": {
    "collapsed": false
   },
   "outputs": [],
   "source": [
    "def smaple_reader():\n",
    "    for d in data:\n",
    "        yield d\n",
    "sr=smaple_reader()\n"
   ]
  },
  {
   "cell_type": "code",
   "execution_count": null,
   "metadata": {
    "collapsed": true
   },
   "outputs": [],
   "source": [
    "calib_samples=[sr.__next__() for _ in range(100)]"
   ]
  },
  {
   "cell_type": "code",
   "execution_count": null,
   "metadata": {
    "collapsed": false
   },
   "outputs": [],
   "source": [
    "acc_mat=np.array([a['a/g'][:3] for a in calib_samples if 'a/g' in a])\n",
    "alt_mat=np.array([a['alt'] for a in calib_samples if 'alt' in a])"
   ]
  },
  {
   "cell_type": "code",
   "execution_count": null,
   "metadata": {
    "collapsed": false
   },
   "outputs": [],
   "source": [
    "acc_mat"
   ]
  },
  {
   "cell_type": "code",
   "execution_count": null,
   "metadata": {
    "collapsed": false
   },
   "outputs": [],
   "source": [
    "plt.figure()\n",
    "plt.subplot(2,1,1)\n",
    "plt.plot(acc_mat[:,0],'r')\n",
    "plt.plot(acc_mat[:,1],'g')\n",
    "plt.plot(acc_mat[:,2],'b')\n",
    "#g_mean=acc_mat[:,2].mean()\n",
    "#g_mean=np.sqrt((acc_mat[:,:3]**2).sum(axis=1))#.mean()\n",
    "g_mean=acc_mat[:,:3].mean(axis=0)\n",
    "\n",
    "g_unit=g_mean/np.sqrt((g_mean**2).sum())\n",
    "\n",
    "g_scale=np.sqrt((g_mean**2).sum())\n",
    "print(g_mean)\n",
    "plt.subplot(2,1,2)\n",
    "plt.plot(alt_mat,'r')\n",
    "alt_var=alt_mat.var()\n",
    "print(g_unit)"
   ]
  },
  {
   "cell_type": "code",
   "execution_count": null,
   "metadata": {
    "collapsed": true
   },
   "outputs": [],
   "source": [
    "def get_scaled_g_alt(d):\n",
    "    #return (np.sqrt((d['a/g'][:3]**2).sum())/g_mean-1)*9.8,d['alt']    \n",
    "    #return np.sqrt((d['a/g'][:3]**2).sum(axis=0)),d['alt']\n",
    "    return (d['a/g'][:3]*g_unit).sum()/g_scale-1.0,d['alt']\n",
    "    #return d['a/g'][2],d['alt']\n",
    "\n",
    "\n"
   ]
  },
  {
   "cell_type": "code",
   "execution_count": null,
   "metadata": {
    "collapsed": true
   },
   "outputs": [],
   "source": [
    "###kalman\n",
    "def kalman(start_alt):\n",
    "    Xk=np.array([0,0,start_alt]) #acc vel pos\n",
    "    def F(X,dt):\n",
    "        pass"
   ]
  },
  {
   "cell_type": "code",
   "execution_count": null,
   "metadata": {
    "collapsed": false
   },
   "outputs": [],
   "source": [
    "az_scale=[]\n",
    "alt_vec=[]\n",
    "t_stemp=[]\n",
    "t_stemp_internal=[]\n",
    "while 1:\n",
    "    try:\n",
    "        next_data=sr.__next__()\n",
    "        if 'alt' in next_data:\n",
    "            az,alt=get_scaled_g_alt(next_data)\n",
    "            az_scale.append(az)\n",
    "            alt_vec.append(alt)\n",
    "            t_stemp.append(next_data['s_sync'])\n",
    "            t_stemp_internal.append(next_data['t_stemp_ms'])\n",
    "    except StopIteration:\n",
    "        break\n",
    "t_stemp=np.array(t_stemp)\n",
    "t_stemp-=t_stemp[0]\n",
    "t_stemp_internal=np.array(t_stemp_internal)\n",
    "t_stemp_internal-=t_stemp_internal[0]\n",
    "t_stemp_internal=t_stemp_internal/1000.0\n"
   ]
  },
  {
   "cell_type": "code",
   "execution_count": null,
   "metadata": {
    "collapsed": false
   },
   "outputs": [],
   "source": [
    "#print(az_scale)\n",
    "plt.figure()\n",
    "ax=plt.subplot(2,1,1)\n",
    "plt.grid('on')\n",
    "plt.plot(t_stemp,az_scale,'-+')\n",
    "plt.plot(t_stemp_internal,az_scale,'-')\n",
    "plt.subplot(2,1,2,sharex=ax)\n",
    "plt.plot(t_stemp,alt_vec)\n",
    "fsize=10\n",
    "plt.plot(t_stemp[fsize/2:-fsize/2+1],np.convolve(np.ones(fsize)/fsize,alt_vec,'valid'))\n"
   ]
  },
  {
   "cell_type": "code",
   "execution_count": null,
   "metadata": {
    "collapsed": false,
    "scrolled": false
   },
   "outputs": [],
   "source": [
    "plt.figure()\n",
    "plot(t_stemp,t_stemp_internal,'+')"
   ]
  },
  {
   "cell_type": "code",
   "execution_count": null,
   "metadata": {
    "collapsed": true
   },
   "outputs": [],
   "source": []
  }
 ],
 "metadata": {
  "kernelspec": {
   "display_name": "Python 3",
   "language": "python",
   "name": "python3"
  },
  "language_info": {
   "codemirror_mode": {
    "name": "ipython",
    "version": 3
   },
   "file_extension": ".py",
   "mimetype": "text/x-python",
   "name": "python",
   "nbconvert_exporter": "python",
   "pygments_lexer": "ipython3",
   "version": "3.6.0"
  }
 },
 "nbformat": 4,
 "nbformat_minor": 2
}
