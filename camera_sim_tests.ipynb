{
 "cells": [
  {
   "cell_type": "code",
   "execution_count": null,
   "metadata": {
    "collapsed": false
   },
   "outputs": [],
   "source": [
    "%pylab notebook\n",
    "import cv2\n",
    "import numpy as np\n",
    "import utils\n",
    "from numpy import matrix as mat\n",
    "np.set_printoptions(formatter={'float':lambda x: '{:8.3f}'.format(x)})"
   ]
  },
  {
   "cell_type": "code",
   "execution_count": null,
   "metadata": {
    "collapsed": false
   },
   "outputs": [],
   "source": [
    "def generate_3d_points():\n",
    "    ax=np.linspace(-2,2,8)\n",
    "    xx,yy=np.meshgrid(ax,ax)\n",
    "    return np.vstack((xx.flatten(),yy.flatten(),np.zeros(len(ax)**2))).T\n",
    "pts3d=generate_3d_points()\n",
    "pts3d[:10,:]\n",
    "figure()\n",
    "plot(pts3d[:,0],pts3d[:,1],'+')"
   ]
  },
  {
   "cell_type": "code",
   "execution_count": null,
   "metadata": {
    "collapsed": false
   },
   "outputs": [],
   "source": [
    "K=mat([160.0,0,160, 0,160.0,120.0,0,0,1]).reshape(3,3)\n",
    "x,y,z=1,0,8.0\n",
    "rx,ry,rz=5/180.0*np.pi,-5/180.0*np.pi,0\n",
    "R=utils.eulerAnglesToRotationMatrix([rx,ry,rz]) \n",
    "C=np.array([x,y,z])\n",
    "#0=RC+T T=-RC\n",
    "T=-mat(R)*mat(C).T\n",
    "if 0:\n",
    "    pts=(K*((mat(R)*pts3d.T).T+T.T).T).T\n",
    "    pts/=pts[:,2]\n",
    "    pts=pts[:,:2]\n",
    "else:\n",
    "    R_vec,_=cv2.Rodrigues(R)\n",
    "    pts,jac=cv2.projectPoints(pts3d,R_vec,T,K,np.zeros(5))\n",
    "    pts=pts.reshape(-1,2)\n",
    "figure()\n",
    "plot(pts[:,0],pts[:,1],'+')\n",
    "xlim([0,320])\n",
    "ylim([0,240])\n",
    "#(mat(R)*generate_3d_points().T).T"
   ]
  },
  {
   "cell_type": "code",
   "execution_count": null,
   "metadata": {
    "collapsed": false
   },
   "outputs": [],
   "source": [
    "#esimaed camera position 0,0,7 (estimate camera positive altitude) esitmate rotation is 0,0,0\n",
    "#0=RC+T T=-R.T*C => T=-C\n",
    "estimate_CamPos=np.array([   0.0,  0.0, 7.0])\n",
    "estimate_Rvec=np.array([   0.0, 0.0  ,0.0])\n",
    "Rest,_=cv2.Rodrigues(estimate_Rvec)\n",
    "estimate_Tvec=(-mat(Rest)*mat(estimate_CamPos).T).A1\n",
    "\n",
    "resPnP,Rvec,Tvec=cv2.solvePnP(pts3d,pts,K,np.zeros(5),estimate_Rvec,estimate_Tvec,True)\n",
    "Rcalc,_=cv2.Rodrigues(Rvec)\n",
    "angs=utils.rotationMatrixToEulerAngles(Rest)/np.pi*180\n",
    "print('calculated camera angles')\n",
    "print(angs)\n",
    "print('calculated camera position')\n",
    "###retriving camera position from translation vector\n",
    "#0=RC+T C=-R.T*T\n",
    "print(-mat(Rcalc).T*mat(Tvec).T)\n"
   ]
  },
  {
   "cell_type": "code",
   "execution_count": null,
   "metadata": {
    "collapsed": false,
    "scrolled": false
   },
   "outputs": [],
   "source": [
    "#trangulate..\n",
    "K=mat([160.0,0,160, 0,160.0,120.0,0,0,1]).reshape(3,3)\n",
    "C1=np.array([0,0,3.0])\n",
    "C2=np.array([0,1,8.0])\n",
    "\n",
    "###Camera 1\n",
    "r1x,r1y,r1z=0.00,0.00,0\n",
    "R1=utils.eulerAnglesToRotationMatrix([r1x,r1y,r1z]) \n",
    "R1_vec,_=cv2.Rodrigues(R1)\n",
    "\n",
    "###Camera 2\n",
    "r2x,r2y,r2z=0.02,0.00,0\n",
    "R2=utils.eulerAnglesToRotationMatrix([r2x,r2y,r2z]) \n",
    "R2_vec,_=cv2.Rodrigues(R2)\n",
    "\n",
    "#knowing camera position calculating T vev\n",
    "#0=RC+T T=-R*C\n",
    "T1=-mat(R1)*mat(C1).T\n",
    "T2=-mat(R2)*mat(C2).T\n",
    "\n",
    "if 0: #option 1 using distortion coeff\n",
    "    pts1,_=cv2.projectPoints(pts3d,R1_vec,T1,K,np.zeros(5))\n",
    "    pts1=pts1.reshape(-1,2)\n",
    "    pts2,_=cv2.projectPoints(pts3d,R2_vec,T2,K,np.zeros(5))\n",
    "    pts2=pts2.reshape(-1,2)\n",
    "else: #option 2 using distortion coeff\n",
    "    pts1=(K*((mat(R1)*pts3d.T).T+T1.T).T).T\n",
    "    pts1/=pts1[:,2]\n",
    "    pts1=pts1[:,:2].A.reshape(-1,2).copy()\n",
    "    pts2=(K*((mat(R2)*pts3d.T).T+T2.T).T).T\n",
    "    pts2/=pts2[:,2]\n",
    "    pts2=pts2[:,:2].A.reshape(-1,2).copy()\n",
    "\n",
    "if 1:\n",
    "    figure()\n",
    "    subplot(1,2,1)\n",
    "    plot(pts1[:,0],pts1[:,1],'+')\n",
    "    xlim([0,320])\n",
    "    ylim([0,240])\n",
    "    subplot(1,2,2)\n",
    "    plot(pts2[:,0],pts2[:,1],'+')\n",
    "    xlim([0,320])\n",
    "    ylim([0,240])\n"
   ]
  },
  {
   "cell_type": "code",
   "execution_count": null,
   "metadata": {
    "collapsed": false
   },
   "outputs": [],
   "source": [
    "E,mask=cv2.findEssentialMat(pts1,pts2,K,cv2.RANSAC,0.99,1.0)\n",
    "#E,mask=cv2.findEssentialMat(pts1,pts2,K,cv2.LMEDS,0.99,1.0) \n",
    "ret,R,T,mask=cv2.recoverPose(E,pts1,pts2,K,mask)\n",
    "T=T.ravel()\n",
    "print('T=',T)\n",
    "print('R=',R)\n",
    "estimated_alt=C2[2]-C1[2]\n",
    "trans_T=(-mat(R).T*mat(T).T).A1\n",
    "trans=np.array([trans_T[0]/trans_T[2], trans_T[1]/trans_T[2], 1.0]) * estimated_alt \n",
    "print('trans=',trans)\n",
    "trans=(mat(R)*mat(trans).T).A1\n",
    "\n",
    "\n",
    "distortion=np.zeros(5)\n",
    "\n",
    "p1=cv2.undistortPoints(pts1.reshape(-1,1,2),K,distortion).reshape(-1,2)\n",
    "p2=cv2.undistortPoints(pts2.reshape(-1,1,2),K,distortion).reshape(-1,2)\n",
    "\n",
    "#todo: not use C but the translation of each camera\n",
    "Proj1=np.hstack((np.eye(3),np.zeros((3,1))))\n",
    "#Proj2=np.hstack((R,-trans.reshape((3,1))))\n",
    "Proj2=np.hstack((R,-trans.reshape((3,1))))\n",
    "\n",
    "pts3d_trang=cv2.triangulatePoints(Proj2,Proj1,p2.T,p1.T)\n",
    "pts3d_trang=pts3d_trang/pts3d_trang[3,:]\n",
    "figure()\n",
    "plot(pts3d_trang.T[:,0],pts3d_trang.T[:,1],'ob')\n",
    "plot(pts3d[:,0],pts3d[:,1],'+r')\n",
    "pts3d_trang.T[:,2]\n",
    "#plot(p1[:,0],p1[:,1],'+')\n",
    "#p2.T[:4,:]\n"
   ]
  },
  {
   "cell_type": "code",
   "execution_count": null,
   "metadata": {
    "collapsed": true
   },
   "outputs": [],
   "source": []
  }
 ],
 "metadata": {
  "anaconda-cloud": {},
  "kernelspec": {
   "display_name": "Python [default]",
   "language": "python",
   "name": "python3"
  },
  "language_info": {
   "codemirror_mode": {
    "name": "ipython",
    "version": 3
   },
   "file_extension": ".py",
   "mimetype": "text/x-python",
   "name": "python",
   "nbconvert_exporter": "python",
   "pygments_lexer": "ipython3",
   "version": "3.5.2"
  }
 },
 "nbformat": 4,
 "nbformat_minor": 2
}
