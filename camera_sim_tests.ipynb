{
 "cells": [
  {
   "cell_type": "code",
   "execution_count": 31,
   "metadata": {
    "collapsed": true
   },
   "outputs": [],
   "source": [
    "import cv2\n",
    "import numpy as np\n",
    "import utils\n",
    "from numpy import matrix as mat\n",
    "np.set_printoptions(formatter={'all':lambda x: '{:8.3f}'.format(x)})"
   ]
  },
  {
   "cell_type": "code",
   "execution_count": 32,
   "metadata": {
    "collapsed": false
   },
   "outputs": [
    {
     "data": {
      "text/plain": [
       "array([[-100.000, -100.000,    0.000],\n",
       "       [   0.000, -100.000,    0.000],\n",
       "       [ 100.000, -100.000,    0.000],\n",
       "       [-100.000,    0.000,    0.000],\n",
       "       [   0.000,    0.000,    0.000],\n",
       "       [ 100.000,    0.000,    0.000],\n",
       "       [-100.000,  100.000,    0.000],\n",
       "       [   0.000,  100.000,    0.000],\n",
       "       [ 100.000,  100.000,    0.000]])"
      ]
     },
     "execution_count": 32,
     "metadata": {},
     "output_type": "execute_result"
    }
   ],
   "source": [
    "def generate_3d_points():\n",
    "    ax=np.linspace(-100,100,3)\n",
    "    xx,yy=np.meshgrid(ax,ax)\n",
    "    return np.vstack((xx.flatten(),yy.flatten(),np.zeros(len(ax)**2))).T\n",
    "generate_3d_points()"
   ]
  },
  {
   "cell_type": "code",
   "execution_count": 40,
   "metadata": {
    "collapsed": false
   },
   "outputs": [
    {
     "name": "stdout",
     "output_type": "stream",
     "text": [
      "[[ 128.000   88.000    1.000]\n",
      " [ 160.000   88.000    1.000]\n",
      " [ 192.000   88.000    1.000]\n",
      " [ 128.000  120.000    1.000]\n",
      " [ 160.000  120.000    1.000]\n",
      " [ 192.000  120.000    1.000]\n",
      " [ 128.000  152.000    1.000]\n",
      " [ 160.000  152.000    1.000]\n",
      " [ 192.000  152.000    1.000]]\n"
     ]
    }
   ],
   "source": [
    "K=mat([160.0,0,160, 0,160.0,120.0,0,0,1]).reshape(3,3)\n",
    "x,y,z=0,0,500.0\n",
    "rx,ry,rz=-90/180.0*np.pi,0,0\n",
    "rx=0\n",
    "ry=0\n",
    "rz=0#-90/180.0*np.pi\n",
    "T=np.array([x,y,z])\n",
    "R=utils.eulerAnglesToRotationMatrix([rx,ry,rz]) \n",
    "pts=(K*((mat(R)*generate_3d_points().T).T+T).T).T\n",
    "print(pts/pts[:,2])\n",
    "#(mat(R)*generate_3d_points().T).T"
   ]
  },
  {
   "cell_type": "code",
   "execution_count": null,
   "metadata": {
    "collapsed": true
   },
   "outputs": [],
   "source": []
  },
  {
   "cell_type": "code",
   "execution_count": null,
   "metadata": {
    "collapsed": true
   },
   "outputs": [],
   "source": []
  }
 ],
 "metadata": {
  "kernelspec": {
   "display_name": "Python 3",
   "language": "python",
   "name": "python3"
  },
  "language_info": {
   "codemirror_mode": {
    "name": "ipython",
    "version": 3
   },
   "file_extension": ".py",
   "mimetype": "text/x-python",
   "name": "python",
   "nbconvert_exporter": "python",
   "pygments_lexer": "ipython3",
   "version": "3.6.0"
  }
 },
 "nbformat": 4,
 "nbformat_minor": 2
}
