{
 "cells": [
  {
   "cell_type": "markdown",
   "metadata": {},
   "source": [
    "### experiment protocol\n",
    "#### run:\n",
    "     source protocol.md\n",
    "     \n",
    "#### problem definition\n",
    "In computer vision, error behavior can have significant effects on decision making. For instance, the wrong estimation of distance can cause a car to stop or in the worst case not stop in the event of an obstacle. Furthermore, false positives can cause failure in control and navigation algorithms that rely on a particular distribution. In our case, we proposed a method for containing the error in a way that will reduce the overall error and avoid momentary large errors.   \n",
    "     \n",
    "#### testcase description\n",
    "1. start at a starting height where to potential features are visible\n",
    "2. extract features\n",
    "3. climb to a relative position\n",
    "4. run findEssentialMat to get relative position without scale\n",
    "5. run recoverPose based on the essential mat to extract rotation vector and translation\n",
    "6. clean untracked features\n",
    "7. update translation to the correct scale based on the high difference from stage 3\n",
    "8. run triangulatePoints based on the two camera positions (stage 1 & 3)\n",
    "9. move camera at rectangular trajectory looking downwards facing the features\n",
    "10. run solvePnP to get camera position and orientation\n",
    "\n",
    "#### type of solvePnP tested\n",
    "1. solvePnP used in opencv\n",
    "2. modified solvePnP based on least_square from scipy using the bounded trf method. representing the rotation with axis angle representation\n",
    "3. modified solvePnP based on least_square from scipy using the bounded trf method. representing the rotation with Euler angles representation\n",
    "\n",
    "#### methods\n",
    "###### software \n",
    "We developed a software tailored to this specefic problem\n",
    "\n",
    "##### simulation\n",
    "points selected on agrid and created syntetic camera by projecting the points to the camera position. noise was added to the simulation proccess after the trangulation. This was done in order to create meeningful error in terms of accepted acuricy in trangulation along the Z axis (the hight of the camera)\n",
    "\n",
    "##### RealWorld\n",
    "###### Haedware\n",
    "- Sony eye cam II\n",
    "- sensor gy86 todo: ... ad info\n",
    "- optitrack system for ground truth information\n",
    "\n",
    "###### Software\n",
    "We have developed asoftware in python to evaluate camera position based on the magnetometr readings and the accelerometer readings."
   ]
  },
  {
   "cell_type": "code",
   "execution_count": null,
   "metadata": {},
   "outputs": [],
   "source": [
    "%matplotlib notebook\n",
    "import matplotlib.pyplot as plt\n",
    "import pickle\n",
    "import numpy as np \n"
   ]
  },
  {
   "cell_type": "code",
   "execution_count": null,
   "metadata": {},
   "outputs": [],
   "source": [
    "def read_experiment_file(fname):\n",
    "    ret=[]\n",
    "    with open(fname,'rb') as fd:\n",
    "        try:\n",
    "            while 1:\n",
    "                ret.append(pickle.load(fd))\n",
    "        except EOFError:\n",
    "            pass\n",
    "    return ret\n",
    "\n",
    "def plot_camdiff_pos(ax1,ax2,ex_data,ex_type='sim'):\n",
    "    extract = lambda x: [(d[1][0],*d[1][2]) for d in ex_data if d[0]==x]\n",
    "    cam_xyz=np.array(extract('camera'))\n",
    "    if ex_type=='sim':\n",
    "        cam_gt_xyz=np.array(extract('camera_gt'))\n",
    "    elif ex_type=='liveopti':\n",
    "        cam_gt_xyz= np.array([(d[1][0],*d[1][1].position) for d in ex_data if d[0]=='odata'])\n",
    "        cam_gt_xyz = cam_gt_xyz[:,[0,3,1,2]]\n",
    "        cam_gt_xyz[:,2]=-cam_gt_xyz[:,2]\n",
    "\n",
    "    ax1.plot(cam_xyz[:,0]-cam_xyz[0,0],cam_xyz[:,1],'r')\n",
    "    ax1.plot(cam_xyz[:,0]-cam_xyz[0,0],cam_xyz[:,2],'g')\n",
    "    ax1.plot(cam_xyz[:,0]-cam_xyz[0,0],cam_xyz[:,3],'b')\n",
    "    ax1.plot(cam_gt_xyz[:,0]-cam_xyz[0,0],cam_gt_xyz[:,1],'r',alpha=0.5)\n",
    "    ax1.plot(cam_gt_xyz[:,0]-cam_xyz[0,0],cam_gt_xyz[:,2],'g',alpha=0.5)\n",
    "    ax1.plot(cam_gt_xyz[:,0]-cam_xyz[0,0],cam_gt_xyz[:,3],'b',alpha=0.5)\n",
    "    ax2.plot(cam_xyz[:,1],cam_xyz[:,2],'r')\n",
    "    ax2.plot(cam_gt_xyz[:,1],cam_gt_xyz[:,2],'m')\n",
    "\n",
    "def plot_experiment(data_file ,ex_type='sim'):\n",
    "    data=read_experiment_file(data_file)\n",
    "    ax1=plt.subplot(1,2,1)\n",
    "    ax2=plt.subplot(1,2,2)\n",
    "    plot_camdiff_pos(ax1,ax2,data,ex_type)\n",
    "    ax2.axis('equal')\n",
    "\n",
    "def plot_experiments(data_file1, data_file2 ,ex_type='sim'):\n",
    "    data=read_experiment_file(data_file1)\n",
    "    ax1=plt.subplot(2,2,1)\n",
    "    ax2=plt.subplot(2,2,2)\n",
    "    plot_camdiff_pos(ax1,ax2,data,ex_type)\n",
    "    ax2.axis('equal')\n",
    "    data=read_experiment_file(data_file2)\n",
    "    ax1=plt.subplot(2,2,3)\n",
    "    ax2=plt.subplot(2,2,4)\n",
    "    plot_camdiff_pos(ax1,ax2,data,ex_type)\n",
    "    ax2.axis('equal')\n",
    "\n",
    "def read_3dpoints(fname):\n",
    "    with open(fname,'rb') as fd:\n",
    "        try:\n",
    "            while 1:\n",
    "                ret=pickle.load(fd)\n",
    "                if ret[0]=='pts3d':\n",
    "                    return ret[1][1]\n",
    "        except EOFError:\n",
    "            pass\n",
    "    return None\n",
    "    \n",
    "def plot_3dpoints(fname,ax1,ax2,color='b'):\n",
    "    pts=read_3dpoints(fname)\n",
    "    ax1.plot(pts[:,0],pts[:,1],'+'+color)\n",
    "    ax2.hist(pts[:,2],bins=20,range=(-.2,.2),alpha=0.5,color=color)\n",
    "   "
   ]
  },
  {
   "cell_type": "code",
   "execution_count": null,
   "metadata": {},
   "outputs": [],
   "source": [
    "plt.figure()\n",
    "plot_experiments('out/sim_pnp_1_nonoise.pkl','out/sim_pnp_1_noise.pkl')\n",
    "plt.figure()\n",
    "ax1=plt.subplot(1,2,1)\n",
    "ax2=plt.subplot(1,2,2)\n",
    "plot_3dpoints('out/sim_pnp_1_nonoise.pkl',ax1,ax2,'b')\n",
    "plot_3dpoints('out/sim_pnp_1_noise.pkl',ax1,ax2,'r')\n"
   ]
  },
  {
   "cell_type": "code",
   "execution_count": null,
   "metadata": {},
   "outputs": [],
   "source": [
    "plt.figure()\n",
    "plot_experiment('out/sim_pnp_2_noise_constrains.pkl')\n"
   ]
  },
  {
   "cell_type": "code",
   "execution_count": null,
   "metadata": {},
   "outputs": [],
   "source": [
    "plt.figure()\n",
    "plot_experiment('out/sim_pnp_3_noise_constrains.pkl')\n"
   ]
  },
  {
   "cell_type": "code",
   "execution_count": null,
   "metadata": {},
   "outputs": [],
   "source": [
    "#plt.figure()\n",
    "data_out=read_experiment_file('out/optilive12_pnp_1.pkl')\n",
    "data_out[4][1][1].position\n"
   ]
  },
  {
   "cell_type": "code",
   "execution_count": null,
   "metadata": {},
   "outputs": [],
   "source": [
    "plt.figure()\n",
    "plot_experiments('out/optilive12_pnp_1.pkl','out/optilive12_pnp_3_constrains.pkl','liveopti')\n",
    "plt.figure()\n",
    "ax1=plt.subplot(1,2,1)\n",
    "ax2=plt.subplot(1,2,2)\n",
    "plot_3dpoints('out/optilive12_pnp_1.pkl',ax1,ax2,'b')\n"
   ]
  },
  {
   "cell_type": "code",
   "execution_count": null,
   "metadata": {},
   "outputs": [],
   "source": [
    "plt.figure()\n",
    "plot_experiments('out/optilive12_pnp_1.pkl','out/optilive12_pnp_2_constrains.pkl','liveopti')\n"
   ]
  },
  {
   "cell_type": "code",
   "execution_count": null,
   "metadata": {},
   "outputs": [],
   "source": [
    "plt.figure()\n",
    "plot_experiments('out/optilive12_pnp_3_constrains.pkl','out/optilive12_pnp_2_constrains.pkl','liveopti')\n"
   ]
  },
  {
   "cell_type": "code",
   "execution_count": null,
   "metadata": {
    "collapsed": true
   },
   "outputs": [],
   "source": []
  }
 ],
 "metadata": {
  "kernelspec": {
   "display_name": "Python 3",
   "language": "python",
   "name": "python3"
  },
  "language_info": {
   "codemirror_mode": {
    "name": "ipython",
    "version": 3
   },
   "file_extension": ".py",
   "mimetype": "text/x-python",
   "name": "python",
   "nbconvert_exporter": "python",
   "pygments_lexer": "ipython3",
   "version": "3.6.1"
  }
 },
 "nbformat": 4,
 "nbformat_minor": 2
}
