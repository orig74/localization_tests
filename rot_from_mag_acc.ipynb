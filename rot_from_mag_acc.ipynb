{
 "cells": [
  {
   "cell_type": "code",
   "execution_count": null,
   "metadata": {
    "collapsed": false
   },
   "outputs": [],
   "source": [
    "%pylab notebook\n",
    "import numpy as np\n",
    "import cv2"
   ]
  },
  {
   "cell_type": "code",
   "execution_count": null,
   "metadata": {
    "collapsed": true
   },
   "outputs": [],
   "source": [
    "import matplotlib.pyplot as plt\n",
    "def norm(X):\n",
    "    return X/np.sqrt((X**2).sum(axis=0))\n"
   ]
  },
  {
   "cell_type": "code",
   "execution_count": null,
   "metadata": {
    "collapsed": false
   },
   "outputs": [],
   "source": [
    "!ls data/manuvers_raw/"
   ]
  },
  {
   "cell_type": "code",
   "execution_count": null,
   "metadata": {
    "collapsed": false
   },
   "outputs": [],
   "source": [
    "import pickle\n",
    "def read_data(fname):\n",
    "    fd=open(fname,'rb')\n",
    "    data=[]\n",
    "    while 1:\n",
    "        try:\n",
    "            data.append(pickle.load(fd))\n",
    "        except EOFError:\n",
    "            break\n",
    "    return data"
   ]
  },
  {
   "cell_type": "code",
   "execution_count": null,
   "metadata": {
    "collapsed": false
   },
   "outputs": [],
   "source": [
    "if 0:\n",
    "    data_calib=read_data('data/manuvers_raw/movcalib2.pkl')\n",
    "else:\n",
    "    import glob\n",
    "    data_calib=[]\n",
    "    for fname in glob.glob('data/manuvers_raw/*.pkl'):\n",
    "        data_calib += read_data(fname)\n",
    "data_calib_acc=read_data('data/manuvers_raw/movcalib_acc.pkl')\n",
    "#data_test=read_data('data/manuvers_raw/mov_test_5.pkl')\n",
    "#data_test=read_data('data/manuvers_raw/mov_test_19c.pkl')\n",
    "#data_test=read_data('data/manuvers_raw/mov_test_14.pkl')\n",
    "#data_test=read_data('data/manuvers_raw/mov_test_17.pkl')\n",
    "data_test=read_data('data/manuvers_raw/mov_test_18.pkl')\n",
    "#data_test=read_data('data/manuvers_raw/mov_test_19.pkl')\n",
    "#data_test=read_data('data/manuvers_raw/movcalib1_9090.pkl')\n",
    "#data_test=read_data('data/manuvers_raw/movcalib_acc.pkl')"
   ]
  },
  {
   "cell_type": "code",
   "execution_count": null,
   "metadata": {
    "collapsed": false
   },
   "outputs": [],
   "source": [
    "data_test[600:603]"
   ]
  },
  {
   "cell_type": "code",
   "execution_count": null,
   "metadata": {
    "collapsed": false
   },
   "outputs": [],
   "source": [
    "mag_calib=np.array([a['mag'] for a in data_calib if 'mag' in a])\n",
    "mag_test=np.array([a['mag'] for a in data_test if 'mag' in a])\n",
    "acc_test=np.array([a['a/g'][:3] for a in data_test if 'a/g' in a])\n",
    "acc_calib=np.array([a['a/g'] for a in data_calib_acc if 'a/g' in a])\n",
    "mag_t=np.array([a['s_sync'] for a in data_test if 'mag' in a])\n"
   ]
  },
  {
   "cell_type": "code",
   "execution_count": null,
   "metadata": {
    "collapsed": false
   },
   "outputs": [],
   "source": [
    "plt.figure()\n",
    "plt.subplot(3,1,1)\n",
    "plt.title('calib samples mag')\n",
    "plt.plot(mag_calib[:,0],'r')\n",
    "plt.plot(mag_calib[:,1],'g')\n",
    "plt.plot(mag_calib[:,2],'b')\n",
    "plt.subplot(3,1,2)\n",
    "plt.title('90 90 test samples mag')\n",
    "plt.plot(mag_test[:,0],'r')\n",
    "plt.plot(mag_test[:,1],'g')\n",
    "plt.plot(mag_test[:,2],'b')\n",
    "plt.subplot(3,1,3)\n",
    "plt.title('acc calib samples')\n",
    "acc_calib_filt=np.vstack([np.convolve(np.ones(10)/10.0,acc_calib[:,i]) for i in range(3)]).T\n",
    "plt.plot(acc_calib_filt[:,0],'r')\n",
    "plt.plot(acc_calib_filt[:,1],'g')\n",
    "plt.plot(acc_calib_filt[:,2],'b')\n"
   ]
  },
  {
   "cell_type": "code",
   "execution_count": null,
   "metadata": {
    "collapsed": false
   },
   "outputs": [],
   "source": [
    "max_calib=mag_calib.max(axis=0)\n",
    "#max_calib[2]=400\n",
    "min_calib=mag_calib.min(axis=0)\n",
    "mag_calib_scaled=mag_calib-min_calib\n",
    "mag_calib_scaled=2.0*(mag_calib_scaled/(max_calib-min_calib)-0.5)\n",
    "plt.figure()\n",
    "plt.plot(mag_calib_scaled[:,1],mag_calib_scaled[:,2],'.g',alpha=0.9,markersize=1)\n",
    "plt.plot(mag_calib_scaled[:,0],mag_calib_scaled[:,2],'.b',alpha=0.9,markersize=1)\n",
    "plt.plot(mag_calib_scaled[:,0],mag_calib_scaled[:,1],'.r',alpha=0.9,markersize=1)\n",
    "\n",
    "#plt.legend(['xy','yz','xz'])\n",
    "#max_calib=np.array([776,570,410]) #[ 769.  579.  408.] [-617. -669. -619.]\n",
    "#min_calib=np.array([-618,-670,-613])\n",
    "plt.axis('equal')\n",
    "plt.grid('on')\n"
   ]
  },
  {
   "cell_type": "code",
   "execution_count": null,
   "metadata": {
    "collapsed": false
   },
   "outputs": [],
   "source": [
    "print(max_calib,min_calib) #[ 769.  579.  408.] [-617. -669. -619.]\n",
    "max_calib_acc=acc_calib_filt.max(axis=0)\n",
    "min_calib_acc=acc_calib_filt.min(axis=0)\n",
    "print(max_calib_acc,min_calib_acc)\n",
    "mag_test_calib=mag_test-min_calib\n",
    "mag_test_calib=2.0*(mag_test_calib/(max_calib-min_calib)-0.5)\n",
    "\n",
    "acc_test_calib=acc_test-min_calib_acc\n",
    "acc_test_calib=2.0*(acc_test_calib/(max_calib_acc-min_calib_acc)-0.5)\n",
    "\n",
    "def smood(X,sz=10):\n",
    "    return np.convolve(X,ones(sz)/sz,'same')\n",
    "for i in range(3):\n",
    "    acc_test_calib[:,i]=smood(acc_test_calib[:,i])\n",
    "for i in range(3):\n",
    "    mag_test_calib[:,i]=smood(mag_test_calib[:,i])\n",
    "\n",
    "\n",
    "plt.figure()\n",
    "ax=plt.subplot(3,1,1)\n",
    "plt.title('mag samples scaled')\n",
    "plt.plot(mag_test_calib[:,0],'r')\n",
    "plt.plot(mag_test_calib[:,1],'g')\n",
    "plt.plot(mag_test_calib[:,2],'b')\n",
    "plt.subplot(3,1,2,sharex=ax)\n",
    "plt.title('acc samples scaled')\n",
    "\n",
    "plt.plot(acc_test_calib[:,0],'r')\n",
    "plt.plot(acc_test_calib[:,1],'g')\n",
    "plt.plot(acc_test_calib[:,2],'b')\n",
    "\n",
    "plt.subplot(3,1,3,sharex=ax)\n",
    "plt.title('angle between vectors in deg')\n",
    "\n",
    "mag_test_norm=norm(mag_test_calib.T)\n",
    "acc_norm=norm(acc_test_calib.T)\n",
    "\n",
    "\n",
    "plt.plot(np.degrees(np.arccos(np.sum(acc_norm*mag_test_norm,axis=0))))\n",
    " #[ 769.  579.  408.] [-617. -669. -619.]\n",
    "#(mag_test_norm**2).sum(axis=0)"
   ]
  },
  {
   "cell_type": "code",
   "execution_count": null,
   "metadata": {
    "collapsed": false
   },
   "outputs": [],
   "source": [
    "plt.figure()\n",
    "plt.subplot(2,1,1)\n",
    "plt.title('heading')\n",
    "#ax,ay = norm(mag_test_calib)[:,[1,2]].T\n",
    "ax,ay = mag_test_calib[:,[0,1]].T\n",
    "plt.plot(np.unwrap(np.arctan2(ay,ax))/np.pi*180,'-+')\n",
    "\n",
    "plt.subplot(2,1,2)\n",
    "plt.title('magnetic field strength')\n",
    "plt.plot((mag_test_calib**2).sum(axis=1),'-+')\n",
    "\n"
   ]
  },
  {
   "cell_type": "code",
   "execution_count": null,
   "metadata": {
    "collapsed": false
   },
   "outputs": [],
   "source": []
  },
  {
   "cell_type": "code",
   "execution_count": null,
   "metadata": {
    "collapsed": false
   },
   "outputs": [],
   "source": [
    "#print(acc_test_norm[:,0])\n",
    "accXmax_norm=norm(np.cross(acc_norm.T,mag_test_norm.T).T).T\n",
    "accX_accXmax_norm=norm(np.cross(acc_norm.T,accXmax_norm).T).T\n",
    "print(np.abs((acc_norm.T*accXmax_norm).sum(axis=1)).max()) #test perpendicular\n",
    "print(np.abs((acc_norm.T*accX_accXmax_norm).sum(axis=1)).max()) #test perpendicular\n",
    "print(np.abs((accXmax_norm*accX_accXmax_norm).sum(axis=1)).max()) #test perpendicular"
   ]
  },
  {
   "cell_type": "code",
   "execution_count": null,
   "metadata": {
    "collapsed": false
   },
   "outputs": [],
   "source": [
    "#testing chkpoints for 180 deg diffrence\n",
    "rot_mat_array=np.hstack((acc_norm.T,accXmax_norm,accX_accXmax_norm)).T.reshape((3,3,-1))\n",
    "r1=rot_mat_array.T[173]\n",
    "r2=rot_mat_array.T[212]\n",
    "rod=cv2.Rodrigues(np.dot(r1,r2.T))[0]\n",
    "print('Rodrigues =\\n',rod)\n",
    "print('Rodrigues angle =\\n',np.sqrt((rod**2).sum())/np.pi*180)\n",
    "\n",
    "r1=rot_mat_array.T[450]\n",
    "r2=rot_mat_array.T[500]\n",
    "rod=cv2.Rodrigues(np.dot(r1,r2.T))[0]\n",
    "print('Rodrigues =\\n',rod)\n",
    "print('Rodrigues angle =\\n',np.sqrt((rod**2).sum())/np.pi*180)\n"
   ]
  },
  {
   "cell_type": "code",
   "execution_count": null,
   "metadata": {
    "collapsed": false
   },
   "outputs": [],
   "source": [
    "r1=rot_mat_array.T[210]\n",
    "r2=rot_mat_array.T[250]\n",
    "rod=cv2.Rodrigues(np.dot(r1,r2.T))[0]\n",
    "print('Rodrigues =\\n',rod)\n",
    "print('Rodrigues angle =\\n',np.sqrt((rod**2).sum())/np.pi*180)\n"
   ]
  },
  {
   "cell_type": "code",
   "execution_count": null,
   "metadata": {
    "collapsed": false
   },
   "outputs": [],
   "source": [
    "#import cv2\n",
    "#axis_angle=np.hstack([cv2.Rodrigues(np.dot(rot_mat_array.T[130],R.T))[0] for R in rot_mat_array.T])\n",
    "#angle_rot=np.sqrt((axis_angle.T**2).sum(axis=1))/np.pi*180"
   ]
  },
  {
   "cell_type": "code",
   "execution_count": null,
   "metadata": {
    "collapsed": false
   },
   "outputs": [],
   "source": [
    "#plt.figure()\n",
    "#plot(angle_rot)"
   ]
  },
  {
   "cell_type": "code",
   "execution_count": null,
   "metadata": {
    "collapsed": true
   },
   "outputs": [],
   "source": [
    "import utils"
   ]
  },
  {
   "cell_type": "code",
   "execution_count": null,
   "metadata": {
    "collapsed": false
   },
   "outputs": [],
   "source": [
    "len(rot_mat_array.T)"
   ]
  },
  {
   "cell_type": "code",
   "execution_count": null,
   "metadata": {
    "collapsed": false
   },
   "outputs": [],
   "source": [
    "r0=rot_mat_array.T[210]\n",
    "eu_angs=np.vstack([utils.rotationMatrixToEulerAngles(np.dot(rot_mat_array.T[i],r0.T)) for i in range(len(rot_mat_array.T))])\n",
    "eu_angs=np.unwrap(eu_angs,axis=0)/np.pi*180"
   ]
  },
  {
   "cell_type": "code",
   "execution_count": null,
   "metadata": {
    "collapsed": false
   },
   "outputs": [],
   "source": [
    "plt.figure()\n",
    "\n",
    "plt.plot(eu_angs[:,0])\n",
    "plt.plot(eu_angs[:,1])\n",
    "plt.plot(eu_angs[:,2])\n",
    "\n",
    "plt.legend(['y','p','r'])"
   ]
  },
  {
   "cell_type": "code",
   "execution_count": null,
   "metadata": {
    "collapsed": true
   },
   "outputs": [],
   "source": []
  },
  {
   "cell_type": "code",
   "execution_count": null,
   "metadata": {
    "collapsed": true
   },
   "outputs": [],
   "source": []
  }
 ],
 "metadata": {
  "anaconda-cloud": {},
  "kernelspec": {
   "display_name": "Python 3",
   "language": "python",
   "name": "python3"
  },
  "language_info": {
   "codemirror_mode": {
    "name": "ipython",
    "version": 3
   },
   "file_extension": ".py",
   "mimetype": "text/x-python",
   "name": "python",
   "nbconvert_exporter": "python",
   "pygments_lexer": "ipython3",
   "version": "3.6.0"
  }
 },
 "nbformat": 4,
 "nbformat_minor": 2
}
